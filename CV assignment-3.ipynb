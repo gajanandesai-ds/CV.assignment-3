{
 "cells": [
  {
   "cell_type": "raw",
   "id": "7d6c7a5c",
   "metadata": {},
   "source": [
    "1. After each stride-2 conv, why do we double the number of filters?"
   ]
  },
  {
   "cell_type": "raw",
   "id": "829f3598",
   "metadata": {},
   "source": [
    "ans:Double the number of filters after each stride-2 conv is a common practice in deep learning. This is because it helps the model learn more complex features at each layer and helps reduce the dimensionality of the input. By doubling the number of filters, the model can more effectively detect features across the entire image. Additionally, doubling the number of filters helps to reduce the total number of parameters in the model, which can reduce the risk of overfitting."
   ]
  },
  {
   "cell_type": "code",
   "execution_count": null,
   "id": "f3efaa53",
   "metadata": {},
   "outputs": [],
   "source": []
  },
  {
   "cell_type": "raw",
   "id": "07e83526",
   "metadata": {},
   "source": [
    "2. Why do we use a larger kernel with MNIST (with simple cnn) in the first conv?"
   ]
  },
  {
   "cell_type": "raw",
   "id": "a2334969",
   "metadata": {},
   "source": [
    "ans:We use a larger kernel with MNIST in the first convolutional layer because it helps to capture the large, broad features of the images in the dataset. Larger kernels have a larger receptive field, which helps to pick up more abstract features. This allows for better feature extraction and ultimately better classification performance."
   ]
  },
  {
   "cell_type": "code",
   "execution_count": null,
   "id": "7d27e5a7",
   "metadata": {},
   "outputs": [],
   "source": []
  },
  {
   "cell_type": "raw",
   "id": "a7954e86",
   "metadata": {},
   "source": [
    "3. What data is saved by ActivationStats for each layer?"
   ]
  },
  {
   "cell_type": "raw",
   "id": "4a9e27ff",
   "metadata": {},
   "source": [
    "ans:ActivationStats saves the activation mean and standard deviation for each layer in a neural network. It also stores the layer name, the number of parameters, the number of neurons, and the activation shape."
   ]
  },
  {
   "cell_type": "code",
   "execution_count": null,
   "id": "2b641e08",
   "metadata": {},
   "outputs": [],
   "source": []
  },
  {
   "cell_type": "raw",
   "id": "75699488",
   "metadata": {},
   "source": [
    "4. How do we get a learner&#39;s callback after they&#39;ve completed training?"
   ]
  },
  {
   "cell_type": "raw",
   "id": "bf09602f",
   "metadata": {},
   "source": [
    "ans:A learner's callback after they have completed training can be achieved by setting up a callback URL in the training platform. This URL should be configured to trigger a POST request to the desired endpoint upon completion of training. The endpoint should then process the data returned in the POST request to determine the learner's results and take any necessary action."
   ]
  },
  {
   "cell_type": "code",
   "execution_count": null,
   "id": "df10c23a",
   "metadata": {},
   "outputs": [],
   "source": []
  },
  {
   "cell_type": "raw",
   "id": "67fe7a9d",
   "metadata": {},
   "source": [
    "5. What are the drawbacks of activations above zero?"
   ]
  },
  {
   "cell_type": "raw",
   "id": "8daf31ce",
   "metadata": {},
   "source": [
    "ans:The drawbacks of activations above zero include potential saturation of neurons, making them unable to learn, and possible instability of the network due to large gradients. Additionally, activations above zero can lead to slower training, as the gradients become smaller as the activation values increase."
   ]
  },
  {
   "cell_type": "code",
   "execution_count": null,
   "id": "51d73a9a",
   "metadata": {},
   "outputs": [],
   "source": []
  },
  {
   "cell_type": "raw",
   "id": "3a5a4e87",
   "metadata": {},
   "source": [
    "6.Draw up the benefits and drawbacks of practicing in larger batches?"
   ]
  },
  {
   "cell_type": "raw",
   "id": "ee4b78ec",
   "metadata": {},
   "source": [
    "ans:\n",
    "Benefits:\n",
    "\n",
    "• Larger batches allow for increased data and more diverse training data sets.\n",
    "\n",
    "• Larger batches can result in faster learning of complex patterns.\n",
    "\n",
    "• The use of larger batches can reduce overfitting due to the sheer number of examples to train on.\n",
    "\n",
    "Drawbacks:\n",
    "\n",
    "• Larger batches can cause longer training times due to increased computation time.\n",
    "\n",
    "• The use of larger batches can result in increased chances of overfitting due to a lack of generalization.\n",
    "\n",
    "• Larger batches can lead to increased memory requirements due to the increased amount of data."
   ]
  },
  {
   "cell_type": "code",
   "execution_count": null,
   "id": "10811523",
   "metadata": {},
   "outputs": [],
   "source": []
  },
  {
   "cell_type": "raw",
   "id": "4ee2f0bd",
   "metadata": {},
   "source": [
    "7. Why should we avoid starting training with a high learning rate?"
   ]
  },
  {
   "cell_type": "raw",
   "id": "6ef244ad",
   "metadata": {},
   "source": [
    "ans:Starting with a high learning rate can cause the weights to update too quickly and the model to diverge. This can result in the model overfitting to the training data and performing poorly on unseen test data. It is better to start with a low learning rate and gradually increase it as the model begins to converge."
   ]
  },
  {
   "cell_type": "code",
   "execution_count": null,
   "id": "dbfe828c",
   "metadata": {},
   "outputs": [],
   "source": []
  },
  {
   "cell_type": "raw",
   "id": "d6016c76",
   "metadata": {},
   "source": [
    "8. What are the pros of studying with a high rate of learning?"
   ]
  },
  {
   "cell_type": "raw",
   "id": "d47ba143",
   "metadata": {},
   "source": [
    "ans:Pros of studying with a high rate of learning include:\n",
    "\n",
    "1.Improved accuracy and performance of algorithms\n",
    "2.Increased ability to recognize and classify objects\n",
    "3.Faster development and deployment of computer vision systems\n",
    "4.Ability to identify and track objects more accurately\n",
    "5.Improved understanding of how vision works in different environments\n",
    "6.Enhanced ability to identify and respond to changes in the environment\n",
    "7.Increased ability to recognize patterns and identify trends in data sets"
   ]
  },
  {
   "cell_type": "code",
   "execution_count": null,
   "id": "cf1fb41b",
   "metadata": {},
   "outputs": [],
   "source": []
  },
  {
   "cell_type": "raw",
   "id": "39420447",
   "metadata": {},
   "source": [
    "9. Why do we want to end the training with a low learning rate?"
   ]
  },
  {
   "cell_type": "raw",
   "id": "4859bde4",
   "metadata": {},
   "source": [
    "ans:We want to end the training with a low learning rate because it helps the model learn more slowly and with finer precision, allowing it to hone in on the best parameters for the model. This helps prevent the model from overfitting or underfitting the data, which can lead to poor performance."
   ]
  },
  {
   "cell_type": "code",
   "execution_count": null,
   "id": "bbcf70c9",
   "metadata": {},
   "outputs": [],
   "source": []
  },
  {
   "cell_type": "code",
   "execution_count": null,
   "id": "39ab8c71",
   "metadata": {},
   "outputs": [],
   "source": []
  }
 ],
 "metadata": {
  "kernelspec": {
   "display_name": "Python 3",
   "language": "python",
   "name": "python3"
  },
  "language_info": {
   "codemirror_mode": {
    "name": "ipython",
    "version": 3
   },
   "file_extension": ".py",
   "mimetype": "text/x-python",
   "name": "python",
   "nbconvert_exporter": "python",
   "pygments_lexer": "ipython3",
   "version": "3.8.8"
  }
 },
 "nbformat": 4,
 "nbformat_minor": 5
}
